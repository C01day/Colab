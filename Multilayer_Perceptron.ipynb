{
  "nbformat": 4,
  "nbformat_minor": 0,
  "metadata": {
    "colab": {
      "name": "Multilayer Perceptron.ipynb",
      "provenance": [],
      "authorship_tag": "ABX9TyNAJPQW3a6O/PGuJksWhxO7",
      "include_colab_link": true
    },
    "kernelspec": {
      "name": "python3",
      "display_name": "Python 3"
    },
    "language_info": {
      "name": "python"
    },
    "accelerator": "GPU"
  },
  "cells": [
    {
      "cell_type": "markdown",
      "metadata": {
        "id": "view-in-github",
        "colab_type": "text"
      },
      "source": [
        "<a href=\"https://colab.research.google.com/github/C01day/Colab/blob/main/Multilayer_Perceptron.ipynb\" target=\"_parent\"><img src=\"https://colab.research.google.com/assets/colab-badge.svg\" alt=\"Open In Colab\"/></a>"
      ]
    },
    {
      "cell_type": "code",
      "metadata": {
        "id": "M4-bxPe22MS-"
      },
      "source": [
        "# 准备数据\n",
        "import numpy as np\n",
        "import tensorflow.compat.v1 as tf\n",
        "tf.disable_v2_behavior()\n",
        "\n",
        "mnist = tf.keras.datasets.mnist.load_data()\n",
        "\n",
        "# 拆开\n",
        "(train_images, train_labels), (test_images, test_labels) = mnist\n",
        "\n",
        "# 铺平\n",
        "A,B,C = train_images.shape\n",
        "train_images = train_images.reshape((A,B*C))\n",
        "\n",
        "A,B,C = test_images.shape\n",
        "test_images = test_images.reshape((A,B*C))\n",
        "\n",
        "train_images = train_images/256\n",
        "test_images = test_images/256\n",
        "\n",
        "# one-hot，例如[3]->[0,0,0,1,0,0,0,0,0,0]\n",
        "train_labels_onehot = tf.keras.utils.to_categorical(train_labels)\n",
        "test_labels_onehot = tf.keras.utils.to_categorical(test_labels)\n",
        "\n",
        "# Parameters\n",
        "learning_rate = 0.001\n",
        "training_epochs = 100\n",
        "batch_size = 100\n",
        "display_step = 1"
      ],
      "execution_count": null,
      "outputs": []
    },
    {
      "cell_type": "markdown",
      "metadata": {
        "id": "wTfHlEyBt72X"
      },
      "source": [
        "# tensorflow"
      ]
    },
    {
      "cell_type": "code",
      "metadata": {
        "colab": {
          "base_uri": "https://localhost:8080/"
        },
        "id": "yETPZ0TxuzLU",
        "outputId": "37dd829d-e7c7-4bb4-eb22-b6416aba55e6"
      },
      "source": [
        "# tensorflow\n",
        "# Network Parameters\n",
        "n_hidden_1 = 256 # 1st layer number of neurons\n",
        "n_hidden_2 = 256 # 2nd layer number of neurons\n",
        "n_input = 784 # MNIST data input (img shape: 28*28)\n",
        "n_classes = 10 # MNIST total classes (0-9 digits)\n",
        "\n",
        "# tf Graph input\n",
        "# 占位符，先分配内存空间，之后每批数据都在此空间内训练\n",
        "X = tf.placeholder(\"float\", [None, n_input])\n",
        "Y = tf.placeholder(\"float\", [None, n_classes])\n",
        "\n",
        "# Store layers weight & bias\n",
        "# 输入层、隐藏层1、隐藏层2、输出层\n",
        "weights = {\n",
        "    'h1': tf.Variable(tf.random_normal([n_input, n_hidden_1])),\n",
        "    'h2': tf.Variable(tf.random_normal([n_hidden_1, n_hidden_2])),\n",
        "    'out': tf.Variable(tf.random_normal([n_hidden_2, n_classes]))\n",
        "}\n",
        "# 全连接，每一层的bias参数个数等于下一层的神经元数\n",
        "biases = {\n",
        "    'b1': tf.Variable(tf.random_normal([n_hidden_1])),\n",
        "    'b2': tf.Variable(tf.random_normal([n_hidden_2])),\n",
        "    'out': tf.Variable(tf.random_normal([n_classes]))\n",
        "}\n",
        "\n",
        "\n",
        "# Create model\n",
        "# x是输入层数据\n",
        "def multilayer_perceptron(x):\n",
        "    # Hidden fully connected layer with 256 neurons\n",
        "    layer_1 = tf.add(tf.matmul(x, weights['h1']), biases['b1']) # wx+b\n",
        "    # Hidden fully connected layer with 256 neurons\n",
        "    layer_2 = tf.add(tf.matmul(layer_1, weights['h2']), biases['b2'])\n",
        "    # Output fully connected layer with a neuron for each class\n",
        "    out_layer = tf.matmul(layer_2, weights['out']) + biases['out']\n",
        "    return out_layer\n",
        "\n",
        "# Construct model\n",
        "# 输出层作为model\n",
        "logits = multilayer_perceptron(X)\n",
        "\n",
        "# Define loss and optimizer\n",
        "# softmax_cross_entropy_with_logits计算预测值和标签的交叉熵，返回数组，reduce_mean再求平均值\n",
        "loss_op = tf.reduce_mean(tf.nn.softmax_cross_entropy_with_logits(\n",
        "    logits=logits, labels=Y))\n",
        "optimizer = tf.train.AdamOptimizer(learning_rate=learning_rate)\n",
        "train_op = optimizer.minimize(loss_op)\n",
        "\n",
        "# Initializing the variables\n",
        "init = tf.global_variables_initializer()\n",
        "\n",
        "with tf.Session() as sess:\n",
        "    sess.run(init)\n",
        "\n",
        "    # Training cycle\n",
        "    # 将所有数据分为多个batch训练，记为一轮（相当于Mini-Batch梯度下降）\n",
        "    # 训练epoch轮次\n",
        "    num_examples = len(train_images)\n",
        "    for epoch in range(training_epochs):\n",
        "        avg_cost = 0.\n",
        "        # total_batch = int(mnist.train.num_examples/batch_size)\n",
        "        total_batch = int(num_examples/batch_size)\n",
        "\n",
        "        # Loop over all batches\n",
        "        for i in range(total_batch):\n",
        "\n",
        "            # batch_x, batch_y = mnist.train.next_batch(batch_size)\n",
        "            batch_x = train_images[i*batch_size : min((i+1)*batch_size , num_examples)]\n",
        "            batch_y = train_labels_onehot[i*batch_size : min((i+1)*batch_size , num_examples)]\n",
        "\n",
        "            # Run optimization op (backprop) and cost op (to get loss value)\n",
        "            # feed_dict将每批数据传给占位符\n",
        "            _, c = sess.run([train_op, loss_op], feed_dict={X: batch_x,\n",
        "                                                            Y: batch_y})\n",
        "\n",
        "            # Compute average loss\n",
        "            avg_cost += c / total_batch\n",
        "\n",
        "        # Display logs per epoch step\n",
        "        # 每个epoch输出一次损失\n",
        "        if epoch % display_step == 0:\n",
        "            print(\"Epoch:\", '%04d' % (epoch+1), \"cost={:.9f}\".format(avg_cost))\n",
        "    print(\"Optimization Finished!\")\n",
        "\n",
        "    # Test model\n",
        "    # 将输出用softmax转为0-1之间的概率\n",
        "    pred = tf.nn.softmax(logits)  # Apply softmax to logits # n*10\n",
        "\n",
        "    # argmax得到数组中最大数的下标（即最大概率的种类）\n",
        "    # equal比较是否相等，返回0或1\n",
        "    correct_prediction = tf.equal(tf.argmax(pred, 1), tf.argmax(Y, 1)) # n*1\n",
        "\n",
        "    # Calculate accuracy\n",
        "    # cast转换数据类型\n",
        "    accuracy = tf.reduce_mean(tf.cast(correct_prediction, \"float\"))\n",
        "    print(\"Accuracy:\", accuracy.eval({X: test_images, Y: test_labels_onehot}))  "
      ],
      "execution_count": null,
      "outputs": [
        {
          "output_type": "stream",
          "name": "stdout",
          "text": [
            "WARNING:tensorflow:From /usr/local/lib/python3.7/dist-packages/tensorflow/python/util/dispatch.py:1096: softmax_cross_entropy_with_logits (from tensorflow.python.ops.nn_ops) is deprecated and will be removed in a future version.\n",
            "Instructions for updating:\n",
            "\n",
            "Future major versions of TensorFlow will allow gradients to flow\n",
            "into the labels input on backprop by default.\n",
            "\n",
            "See `tf.nn.softmax_cross_entropy_with_logits_v2`.\n",
            "\n",
            "Epoch: 0001 cost=280.778191024\n",
            "Epoch: 0002 cost=96.518489384\n",
            "Epoch: 0003 cost=72.120107435\n",
            "Epoch: 0004 cost=58.706415145\n",
            "Epoch: 0005 cost=50.603123511\n",
            "Epoch: 0006 cost=44.684005774\n",
            "Epoch: 0007 cost=39.317380086\n",
            "Epoch: 0008 cost=36.279664731\n",
            "Epoch: 0009 cost=32.855953583\n",
            "Epoch: 0010 cost=30.773246069\n",
            "Epoch: 0011 cost=28.945174815\n",
            "Epoch: 0012 cost=26.985439145\n",
            "Epoch: 0013 cost=25.623818342\n",
            "Epoch: 0014 cost=24.742250455\n",
            "Epoch: 0015 cost=23.325378706\n",
            "Epoch: 0016 cost=22.088758522\n",
            "Epoch: 0017 cost=21.510773033\n",
            "Epoch: 0018 cost=20.138091080\n",
            "Epoch: 0019 cost=19.889134341\n",
            "Epoch: 0020 cost=19.043052426\n",
            "Epoch: 0021 cost=17.972289663\n",
            "Epoch: 0022 cost=17.858317298\n",
            "Epoch: 0023 cost=16.667032877\n",
            "Epoch: 0024 cost=16.783522250\n",
            "Epoch: 0025 cost=16.142582164\n",
            "Epoch: 0026 cost=15.748846425\n",
            "Epoch: 0027 cost=15.213913193\n",
            "Epoch: 0028 cost=14.890545402\n",
            "Epoch: 0029 cost=14.154734550\n",
            "Epoch: 0030 cost=13.955848502\n",
            "Epoch: 0031 cost=13.631016145\n",
            "Epoch: 0032 cost=13.183382529\n",
            "Epoch: 0033 cost=12.773932430\n",
            "Epoch: 0034 cost=12.604397478\n",
            "Epoch: 0035 cost=12.223774215\n",
            "Epoch: 0036 cost=12.230812181\n",
            "Epoch: 0037 cost=11.864240079\n",
            "Epoch: 0038 cost=11.530004026\n",
            "Epoch: 0039 cost=11.209342129\n",
            "Epoch: 0040 cost=10.985088066\n",
            "Epoch: 0041 cost=10.684999129\n",
            "Epoch: 0042 cost=10.511632038\n",
            "Epoch: 0043 cost=10.332962026\n",
            "Epoch: 0044 cost=9.956486397\n",
            "Epoch: 0045 cost=10.072931328\n",
            "Epoch: 0046 cost=9.740583018\n",
            "Epoch: 0047 cost=9.635783888\n",
            "Epoch: 0048 cost=9.438902768\n",
            "Epoch: 0049 cost=9.115550404\n",
            "Epoch: 0050 cost=9.029806875\n",
            "Epoch: 0051 cost=8.768170431\n",
            "Epoch: 0052 cost=8.488219973\n",
            "Epoch: 0053 cost=8.617031947\n",
            "Epoch: 0054 cost=8.364422535\n",
            "Epoch: 0055 cost=8.196597463\n",
            "Epoch: 0056 cost=8.122159077\n",
            "Epoch: 0057 cost=7.799655446\n",
            "Epoch: 0058 cost=7.785901081\n",
            "Epoch: 0059 cost=7.669867413\n",
            "Epoch: 0060 cost=7.441252864\n",
            "Epoch: 0061 cost=7.494980542\n",
            "Epoch: 0062 cost=7.194245709\n",
            "Epoch: 0063 cost=7.059997175\n",
            "Epoch: 0064 cost=7.141417073\n",
            "Epoch: 0065 cost=7.089278807\n",
            "Epoch: 0066 cost=6.864254582\n",
            "Epoch: 0067 cost=6.730866483\n",
            "Epoch: 0068 cost=6.685045941\n",
            "Epoch: 0069 cost=6.494984007\n",
            "Epoch: 0070 cost=6.483159778\n",
            "Epoch: 0071 cost=6.381646341\n",
            "Epoch: 0072 cost=6.305042273\n",
            "Epoch: 0073 cost=6.219578472\n",
            "Epoch: 0074 cost=6.169953927\n",
            "Epoch: 0075 cost=6.115467922\n",
            "Epoch: 0076 cost=5.998552818\n",
            "Epoch: 0077 cost=5.851622974\n",
            "Epoch: 0078 cost=5.855786079\n",
            "Epoch: 0079 cost=5.779980937\n",
            "Epoch: 0080 cost=5.670449998\n",
            "Epoch: 0081 cost=5.708728139\n",
            "Epoch: 0082 cost=5.570010782\n",
            "Epoch: 0083 cost=5.430560105\n",
            "Epoch: 0084 cost=5.386719190\n",
            "Epoch: 0085 cost=5.352483888\n",
            "Epoch: 0086 cost=5.242419586\n",
            "Epoch: 0087 cost=5.227052640\n",
            "Epoch: 0088 cost=5.184233580\n",
            "Epoch: 0089 cost=5.055305308\n",
            "Epoch: 0090 cost=5.017496666\n",
            "Epoch: 0091 cost=4.996063684\n",
            "Epoch: 0092 cost=5.028277349\n",
            "Epoch: 0093 cost=4.847536470\n",
            "Epoch: 0094 cost=4.826640977\n",
            "Epoch: 0095 cost=4.850904389\n",
            "Epoch: 0096 cost=4.675400947\n",
            "Epoch: 0097 cost=4.684008169\n",
            "Epoch: 0098 cost=4.655549960\n",
            "Epoch: 0099 cost=4.589420684\n",
            "Epoch: 0100 cost=4.497274935\n",
            "Optimization Finished!\n",
            "Accuracy: 0.8686\n"
          ]
        }
      ]
    },
    {
      "cell_type": "markdown",
      "metadata": {
        "id": "wiPajh3iuAQM"
      },
      "source": [
        "# sklearn"
      ]
    },
    {
      "cell_type": "code",
      "metadata": {
        "id": "APO5ZpcUAfTK"
      },
      "source": [
        "# sklearn\n",
        "from sklearn.datasets import load_digits\n",
        "from sklearn.model_selection import train_test_split, cross_val_score\n",
        "from sklearn.preprocessing import StandardScaler\n",
        "from sklearn.neural_network import MLPClassifier\n",
        "\n",
        "digits = load_digits()\n",
        "X = digits.data\n",
        "y = digits.target\n",
        "X_train, X_test, y_train, y_test = train_test_split(X, y, random_state=3)\n",
        "cls = MLPClassifier(activation='relu', alpha=1e-05, batch_size='auto', beta_1=0.9,\n",
        "       beta_2=0.999, early_stopping=False, epsilon=1e-08,\n",
        "       hidden_layer_sizes=(100, 100), learning_rate='constant',\n",
        "       learning_rate_init=0.001, max_iter=100, momentum=0.9,\n",
        "       nesterovs_momentum=True, power_t=0.5, random_state=1, shuffle=True,\n",
        "       solver='lbfgs', tol=0.0001, validation_fraction=0.1, verbose=False,\n",
        "       warm_start=False)\n",
        "print('准确率： %s' % cross_val_score(cls, train_images, train_labels, cv=5).mean())"
      ],
      "execution_count": null,
      "outputs": []
    },
    {
      "cell_type": "markdown",
      "metadata": {
        "id": "fghxJJzguB7c"
      },
      "source": [
        "# keras"
      ]
    },
    {
      "cell_type": "code",
      "metadata": {
        "colab": {
          "base_uri": "https://localhost:8080/"
        },
        "id": "AkQnbsebjpyi",
        "outputId": "7a0ac9d1-3f87-49f1-a45f-a40e0230d833"
      },
      "source": [
        "# keras\n",
        "import tensorflow as tf\n",
        "\n",
        "# 注意传入的数据需为float型\n",
        "# Dense layer can only be built with a floating-point dtype\n",
        "model = tf.keras.Sequential([\n",
        "    tf.keras.layers.Dense(units=256, activation='relu'),\n",
        "    tf.keras.layers.Dense(units=256, activation='relu'),\n",
        "    tf.keras.layers.Dense(units=10, activation='softmax')\n",
        "])\n",
        "\n",
        "early_stopping = tf.keras.callbacks.EarlyStopping(monitor='val_loss',\n",
        "                                                    patience=10, # patience：能够容忍多少个epoch内都没有improvement\n",
        "                                                    mode='min')\n",
        "\n",
        "model.compile(loss=tf.keras.losses.categorical_crossentropy, #'categorical_crossentropy'损失\n",
        "                optimizer=tf.optimizers.Adam(), #优化器\n",
        "                metrics=['accuracy']) #指标 #MeanAbsoluteError、MeanSquaredError... #'accuracy'(depends on the loss function) = tf.keras.metrics.CategoricalAccuracy()\n",
        "            \n",
        "model.fit(train_images, train_labels_onehot, epochs=training_epochs, batch_size=batch_size,\n",
        "                      validation_data=(test_images, test_labels_onehot),\n",
        "                      callbacks=[early_stopping])\n",
        " \n",
        "model.evaluate(test_images, test_labels_onehot, verbose=0) # loss value & metrics values"
      ],
      "execution_count": null,
      "outputs": [
        {
          "output_type": "stream",
          "name": "stdout",
          "text": [
            "Train on 60000 samples, validate on 10000 samples\n",
            "Epoch 1/100\n",
            "58900/60000 [============================>.] - ETA: 0s - loss: 0.2476 - categorical_accuracy: 0.9275"
          ]
        },
        {
          "output_type": "stream",
          "name": "stderr",
          "text": [
            "/usr/local/lib/python3.7/dist-packages/keras/engine/training_v1.py:2057: UserWarning: `Model.state_updates` will be removed in a future version. This property should not be used in TensorFlow 2.0, as `updates` are applied automatically.\n",
            "  updates = self.state_updates\n"
          ]
        },
        {
          "output_type": "stream",
          "name": "stdout",
          "text": [
            "60000/60000 [==============================] - 2s 40us/sample - loss: 0.2457 - categorical_accuracy: 0.9281 - val_loss: 0.1098 - val_categorical_accuracy: 0.9673\n",
            "Epoch 2/100\n",
            "60000/60000 [==============================] - 2s 39us/sample - loss: 0.0940 - categorical_accuracy: 0.9712 - val_loss: 0.0862 - val_categorical_accuracy: 0.9717\n",
            "Epoch 3/100\n",
            "60000/60000 [==============================] - 2s 38us/sample - loss: 0.0614 - categorical_accuracy: 0.9802 - val_loss: 0.0857 - val_categorical_accuracy: 0.9726\n",
            "Epoch 4/100\n",
            "60000/60000 [==============================] - 2s 38us/sample - loss: 0.0421 - categorical_accuracy: 0.9867 - val_loss: 0.0694 - val_categorical_accuracy: 0.9792\n",
            "Epoch 5/100\n",
            "60000/60000 [==============================] - 2s 38us/sample - loss: 0.0301 - categorical_accuracy: 0.9906 - val_loss: 0.0683 - val_categorical_accuracy: 0.9799\n",
            "Epoch 6/100\n",
            "60000/60000 [==============================] - 2s 38us/sample - loss: 0.0256 - categorical_accuracy: 0.9918 - val_loss: 0.0795 - val_categorical_accuracy: 0.9766\n",
            "Epoch 7/100\n",
            "60000/60000 [==============================] - 2s 38us/sample - loss: 0.0197 - categorical_accuracy: 0.9937 - val_loss: 0.0788 - val_categorical_accuracy: 0.9781\n",
            "Epoch 8/100\n",
            "60000/60000 [==============================] - 2s 38us/sample - loss: 0.0196 - categorical_accuracy: 0.9935 - val_loss: 0.0848 - val_categorical_accuracy: 0.9793\n",
            "Epoch 9/100\n",
            "60000/60000 [==============================] - 2s 38us/sample - loss: 0.0131 - categorical_accuracy: 0.9952 - val_loss: 0.0759 - val_categorical_accuracy: 0.9804\n",
            "Epoch 10/100\n",
            "60000/60000 [==============================] - 2s 38us/sample - loss: 0.0165 - categorical_accuracy: 0.9945 - val_loss: 0.0952 - val_categorical_accuracy: 0.9767\n",
            "Epoch 11/100\n",
            "60000/60000 [==============================] - 2s 38us/sample - loss: 0.0118 - categorical_accuracy: 0.9962 - val_loss: 0.0991 - val_categorical_accuracy: 0.9773\n",
            "Epoch 12/100\n",
            "60000/60000 [==============================] - 2s 38us/sample - loss: 0.0134 - categorical_accuracy: 0.9953 - val_loss: 0.0990 - val_categorical_accuracy: 0.9782\n",
            "Epoch 13/100\n",
            "60000/60000 [==============================] - 2s 39us/sample - loss: 0.0102 - categorical_accuracy: 0.9965 - val_loss: 0.0788 - val_categorical_accuracy: 0.9816\n",
            "Epoch 14/100\n",
            "60000/60000 [==============================] - 2s 38us/sample - loss: 0.0111 - categorical_accuracy: 0.9965 - val_loss: 0.0929 - val_categorical_accuracy: 0.9799\n",
            "Epoch 15/100\n",
            "60000/60000 [==============================] - 2s 38us/sample - loss: 0.0089 - categorical_accuracy: 0.9970 - val_loss: 0.1101 - val_categorical_accuracy: 0.9786\n"
          ]
        },
        {
          "output_type": "execute_result",
          "data": {
            "text/plain": [
              "[0.11013129019977716, 0.9786]"
            ]
          },
          "metadata": {},
          "execution_count": 3
        }
      ]
    }
  ]
}