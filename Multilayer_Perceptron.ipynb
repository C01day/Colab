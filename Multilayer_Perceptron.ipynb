{
  "nbformat": 4,
  "nbformat_minor": 0,
  "metadata": {
    "colab": {
      "name": "Multilayer Perceptron.ipynb",
      "provenance": [],
      "authorship_tag": "ABX9TyOlaXU3UJ1aRWDJ/iARRL1H",
      "include_colab_link": true
    },
    "kernelspec": {
      "name": "python3",
      "display_name": "Python 3"
    },
    "language_info": {
      "name": "python"
    },
    "accelerator": "GPU"
  },
  "cells": [
    {
      "cell_type": "markdown",
      "metadata": {
        "id": "view-in-github",
        "colab_type": "text"
      },
      "source": [
        "<a href=\"https://colab.research.google.com/github/C01day/Colab/blob/main/Multilayer_Perceptron.ipynb\" target=\"_parent\"><img src=\"https://colab.research.google.com/assets/colab-badge.svg\" alt=\"Open In Colab\"/></a>"
      ]
    },
    {
      "cell_type": "code",
      "metadata": {
        "id": "M4-bxPe22MS-",
        "colab": {
          "base_uri": "https://localhost:8080/"
        },
        "outputId": "128dc076-d794-4449-ac97-f27d1d030cea"
      },
      "source": [
        "# 准备数据\n",
        "import numpy as np\n",
        "import tensorflow.compat.v1 as tf\n",
        "tf.disable_v2_behavior()\n",
        "\n",
        "mnist = tf.keras.datasets.mnist.load_data()\n",
        "\n",
        "# 拆开\n",
        "(train_images, train_labels), (test_images, test_labels) = mnist\n",
        "\n",
        "# 铺平\n",
        "A,B,C = train_images.shape\n",
        "train_images = train_images.reshape((A,B*C))\n",
        "\n",
        "A,B,C = test_images.shape\n",
        "test_images = test_images.reshape((A,B*C))\n",
        "\n",
        "train_images = train_images/256\n",
        "test_images = test_images/256\n",
        "\n",
        "# one-hot，例如[3]->[0,0,0,1,0,0,0,0,0,0]\n",
        "train_labels_onehot = tf.keras.utils.to_categorical(train_labels)\n",
        "test_labels_onehot = tf.keras.utils.to_categorical(test_labels)\n",
        "\n",
        "# Parameters\n",
        "learning_rate = 0.001\n",
        "training_epochs = 100\n",
        "batch_size = 100\n",
        "display_step = 1"
      ],
      "execution_count": null,
      "outputs": [
        {
          "output_type": "stream",
          "name": "stdout",
          "text": [
            "WARNING:tensorflow:From /usr/local/lib/python3.7/dist-packages/tensorflow/python/compat/v2_compat.py:111: disable_resource_variables (from tensorflow.python.ops.variable_scope) is deprecated and will be removed in a future version.\n",
            "Instructions for updating:\n",
            "non-resource variables are not supported in the long term\n",
            "Downloading data from https://storage.googleapis.com/tensorflow/tf-keras-datasets/mnist.npz\n",
            "11493376/11490434 [==============================] - 0s 0us/step\n",
            "11501568/11490434 [==============================] - 0s 0us/step\n"
          ]
        }
      ]
    },
    {
      "cell_type": "markdown",
      "metadata": {
        "id": "wTfHlEyBt72X"
      },
      "source": [
        "# tensorflow"
      ]
    },
    {
      "cell_type": "code",
      "metadata": {
        "id": "yETPZ0TxuzLU"
      },
      "source": [
        "# tensorflow\n",
        "# Network Parameters\n",
        "n_hidden_1 = 256 # 1st layer number of neurons\n",
        "n_hidden_2 = 256 # 2nd layer number of neurons\n",
        "n_input = 784 # MNIST data input (img shape: 28*28)\n",
        "n_classes = 10 # MNIST total classes (0-9 digits)\n",
        "\n",
        "# tf Graph input\n",
        "# 占位符，先分配内存空间，之后每批数据都在此空间内训练\n",
        "X = tf.placeholder(\"float\", [None, n_input])\n",
        "Y = tf.placeholder(\"float\", [None, n_classes])\n",
        "\n",
        "# Store layers weight & bias\n",
        "# 输入层、隐藏层1、隐藏层2、输出层\n",
        "weights = {\n",
        "    'h1': tf.Variable(tf.random_normal([n_input, n_hidden_1])),\n",
        "    'h2': tf.Variable(tf.random_normal([n_hidden_1, n_hidden_2])),\n",
        "    'out': tf.Variable(tf.random_normal([n_hidden_2, n_classes]))\n",
        "}\n",
        "# 全连接，每一层的bias参数个数等于下一层的神经元数\n",
        "biases = {\n",
        "    'b1': tf.Variable(tf.random_normal([n_hidden_1])),\n",
        "    'b2': tf.Variable(tf.random_normal([n_hidden_2])),\n",
        "    'out': tf.Variable(tf.random_normal([n_classes]))\n",
        "}\n",
        "\n",
        "\n",
        "# Create model\n",
        "# x是输入层数据\n",
        "def multilayer_perceptron(x):\n",
        "    # Hidden fully connected layer with 256 neurons\n",
        "    layer_1 = tf.add(tf.matmul(x, weights['h1']), biases['b1']) # wx+b\n",
        "    # Hidden fully connected layer with 256 neurons\n",
        "    layer_2 = tf.add(tf.matmul(layer_1, weights['h2']), biases['b2'])\n",
        "    # Output fully connected layer with a neuron for each class\n",
        "    out_layer = tf.matmul(layer_2, weights['out']) + biases['out']\n",
        "    return out_layer\n",
        "\n",
        "# Construct model\n",
        "# 输出层作为model\n",
        "logits = multilayer_perceptron(X)\n",
        "\n",
        "# Define loss and optimizer\n",
        "# softmax_cross_entropy_with_logits计算预测值和标签的交叉熵，返回数组，reduce_mean再求平均值\n",
        "loss_op = tf.reduce_mean(tf.nn.softmax_cross_entropy_with_logits(\n",
        "    logits=logits, labels=Y))\n",
        "optimizer = tf.train.AdamOptimizer(learning_rate=learning_rate)\n",
        "train_op = optimizer.minimize(loss_op)\n",
        "\n",
        "# Initializing the variables\n",
        "init = tf.global_variables_initializer()\n",
        "\n",
        "with tf.Session() as sess:\n",
        "    sess.run(init)\n",
        "\n",
        "    # Training cycle\n",
        "    # 将所有数据分为多个batch训练，记为一轮（相当于Mini-Batch梯度下降）\n",
        "    # 训练epoch轮次\n",
        "    num_examples = len(train_images)\n",
        "    for epoch in range(training_epochs):\n",
        "        avg_cost = 0.\n",
        "        # total_batch = int(mnist.train.num_examples/batch_size)\n",
        "        total_batch = int(num_examples/batch_size)\n",
        "\n",
        "        # Loop over all batches\n",
        "        for i in range(total_batch):\n",
        "\n",
        "            # batch_x, batch_y = mnist.train.next_batch(batch_size)\n",
        "            batch_x = train_images[i*batch_size : min((i+1)*batch_size , num_examples)]\n",
        "            batch_y = train_labels_onehot[i*batch_size : min((i+1)*batch_size , num_examples)]\n",
        "\n",
        "            # Run optimization op (backprop) and cost op (to get loss value)\n",
        "            # feed_dict将每批数据传给占位符\n",
        "            _, c = sess.run([train_op, loss_op], feed_dict={X: batch_x,\n",
        "                                                            Y: batch_y})\n",
        "\n",
        "            # Compute average loss\n",
        "            avg_cost += c / total_batch\n",
        "\n",
        "        # Display logs per epoch step\n",
        "        # 每个epoch输出一次损失\n",
        "        if epoch % display_step == 0:\n",
        "            print(\"Epoch:\", '%04d' % (epoch+1), \"cost={:.9f}\".format(avg_cost))\n",
        "    print(\"Optimization Finished!\")\n",
        "\n",
        "    # Test model\n",
        "    # 将输出用softmax转为0-1之间的概率\n",
        "    pred = tf.nn.softmax(logits)  # Apply softmax to logits # n*10\n",
        "\n",
        "    # argmax得到数组中最大数的下标（即最大概率的种类）\n",
        "    # equal比较是否相等，返回0或1\n",
        "    correct_prediction = tf.equal(tf.argmax(pred, 1), tf.argmax(Y, 1)) # n*1\n",
        "\n",
        "    # Calculate accuracy\n",
        "    # cast转换数据类型\n",
        "    accuracy = tf.reduce_mean(tf.cast(correct_prediction, \"float\"))\n",
        "    print(\"Accuracy:\", accuracy.eval({X: test_images, Y: test_labels_onehot}))  "
      ],
      "execution_count": null,
      "outputs": []
    },
    {
      "cell_type": "markdown",
      "metadata": {
        "id": "wiPajh3iuAQM"
      },
      "source": [
        "# sklearn"
      ]
    },
    {
      "cell_type": "code",
      "metadata": {
        "id": "APO5ZpcUAfTK"
      },
      "source": [
        "# sklearn\n",
        "from sklearn.datasets import load_digits\n",
        "from sklearn.model_selection import train_test_split, cross_val_score\n",
        "from sklearn.preprocessing import StandardScaler\n",
        "from sklearn.neural_network import MLPClassifier\n",
        "\n",
        "digits = load_digits()\n",
        "X = digits.data\n",
        "y = digits.target\n",
        "X_train, X_test, y_train, y_test = train_test_split(X, y, random_state=3)\n",
        "cls = MLPClassifier(activation='relu', alpha=1e-05, batch_size='auto', beta_1=0.9,\n",
        "       beta_2=0.999, early_stopping=False, epsilon=1e-08,\n",
        "       hidden_layer_sizes=(100, 100), learning_rate='constant',\n",
        "       learning_rate_init=0.001, max_iter=100, momentum=0.9,\n",
        "       nesterovs_momentum=True, power_t=0.5, random_state=1, shuffle=True,\n",
        "       solver='lbfgs', tol=0.0001, validation_fraction=0.1, verbose=False,\n",
        "       warm_start=False)\n",
        "print('准确率： %s' % cross_val_score(cls, train_images, train_labels, cv=5).mean())"
      ],
      "execution_count": null,
      "outputs": []
    },
    {
      "cell_type": "markdown",
      "metadata": {
        "id": "fghxJJzguB7c"
      },
      "source": [
        "# keras"
      ]
    },
    {
      "cell_type": "code",
      "metadata": {
        "colab": {
          "base_uri": "https://localhost:8080/"
        },
        "id": "AkQnbsebjpyi",
        "outputId": "d1736956-0faa-4863-a053-db757db401b0"
      },
      "source": [
        "# keras\n",
        "import tensorflow as tf\n",
        "\n",
        "# 注意传入的数据需为float型\n",
        "# Dense layer can only be built with a floating-point dtype\n",
        "model = tf.keras.Sequential([\n",
        "    tf.keras.layers.Dense(units=256, activation='relu'),\n",
        "    tf.keras.layers.Dense(units=256, activation='relu'),\n",
        "    tf.keras.layers.Dense(units=10, activation='softmax')\n",
        "])\n",
        "\n",
        "early_stopping = tf.keras.callbacks.EarlyStopping(monitor='val_loss',\n",
        "                                                    patience=10, # patience：能够容忍多少个epoch内都没有improvement\n",
        "                                                    mode='min')\n",
        "\n",
        "model.compile(loss=tf.keras.losses.categorical_crossentropy, #'categorical_crossentropy'损失\n",
        "                optimizer=tf.optimizers.Adam(), #优化器\n",
        "                metrics=['accuracy']) #指标 #MeanAbsoluteError、MeanSquaredError... #'accuracy'(depends on the loss function) = tf.keras.metrics.CategoricalAccuracy()\n",
        "            \n",
        "model.fit(train_images, train_labels_onehot, epochs=training_epochs, batch_size=batch_size,\n",
        "                      # validation_data=(test_images, test_labels_onehot),\n",
        "                      validation_split=0.2,\n",
        "                      callbacks=[early_stopping])\n",
        " \n",
        "model.evaluate(test_images, test_labels_onehot, verbose=0) # loss value & metrics values"
      ],
      "execution_count": null,
      "outputs": [
        {
          "output_type": "stream",
          "name": "stdout",
          "text": [
            "Train on 48000 samples, validate on 12000 samples\n",
            "Epoch 1/100\n",
            "48000/48000 [==============================] - ETA: 0s - loss: 0.2677 - acc: 0.9221"
          ]
        },
        {
          "output_type": "stream",
          "name": "stderr",
          "text": [
            "/usr/local/lib/python3.7/dist-packages/keras/engine/training_v1.py:2057: UserWarning: `Model.state_updates` will be removed in a future version. This property should not be used in TensorFlow 2.0, as `updates` are applied automatically.\n",
            "  updates = self.state_updates\n"
          ]
        },
        {
          "output_type": "stream",
          "name": "stdout",
          "text": [
            "48000/48000 [==============================] - 2s 42us/sample - loss: 0.2677 - acc: 0.9221 - val_loss: 0.1263 - val_acc: 0.9622\n",
            "Epoch 2/100\n",
            "48000/48000 [==============================] - 2s 40us/sample - loss: 0.0986 - acc: 0.9710 - val_loss: 0.0914 - val_acc: 0.9732\n",
            "Epoch 3/100\n",
            "48000/48000 [==============================] - 2s 41us/sample - loss: 0.0653 - acc: 0.9803 - val_loss: 0.0847 - val_acc: 0.9747\n",
            "Epoch 4/100\n",
            "48000/48000 [==============================] - 2s 41us/sample - loss: 0.0445 - acc: 0.9860 - val_loss: 0.0876 - val_acc: 0.9753\n",
            "Epoch 5/100\n",
            "48000/48000 [==============================] - 2s 41us/sample - loss: 0.0335 - acc: 0.9893 - val_loss: 0.0938 - val_acc: 0.9744\n",
            "Epoch 6/100\n",
            "48000/48000 [==============================] - 2s 40us/sample - loss: 0.0252 - acc: 0.9919 - val_loss: 0.1058 - val_acc: 0.9718\n",
            "Epoch 7/100\n",
            "48000/48000 [==============================] - 2s 41us/sample - loss: 0.0201 - acc: 0.9932 - val_loss: 0.0874 - val_acc: 0.9782\n",
            "Epoch 8/100\n",
            "48000/48000 [==============================] - 2s 40us/sample - loss: 0.0186 - acc: 0.9934 - val_loss: 0.0933 - val_acc: 0.9754\n",
            "Epoch 9/100\n",
            "48000/48000 [==============================] - 2s 40us/sample - loss: 0.0165 - acc: 0.9944 - val_loss: 0.0981 - val_acc: 0.9778\n",
            "Epoch 10/100\n",
            "48000/48000 [==============================] - 2s 40us/sample - loss: 0.0146 - acc: 0.9948 - val_loss: 0.1071 - val_acc: 0.9755\n",
            "Epoch 11/100\n",
            "48000/48000 [==============================] - 2s 40us/sample - loss: 0.0111 - acc: 0.9963 - val_loss: 0.1029 - val_acc: 0.9761\n",
            "Epoch 12/100\n",
            "48000/48000 [==============================] - 2s 41us/sample - loss: 0.0107 - acc: 0.9968 - val_loss: 0.1256 - val_acc: 0.9762\n",
            "Epoch 13/100\n",
            "48000/48000 [==============================] - 2s 41us/sample - loss: 0.0115 - acc: 0.9964 - val_loss: 0.1098 - val_acc: 0.9778\n"
          ]
        },
        {
          "output_type": "execute_result",
          "data": {
            "text/plain": [
              "[0.10329462310847812, 0.9774]"
            ]
          },
          "metadata": {},
          "execution_count": 3
        }
      ]
    }
  ]
}